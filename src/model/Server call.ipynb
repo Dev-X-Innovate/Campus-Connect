{
  "nbformat": 4,
  "nbformat_minor": 0,
  "metadata": {
    "colab": {
      "provenance": []
    },
    "kernelspec": {
      "name": "python3",
      "display_name": "Python 3"
    },
    "language_info": {
      "name": "python"
    }
  },
  "cells": [
    {
      "cell_type": "code",
      "execution_count": 10,
      "metadata": {
        "colab": {
          "base_uri": "https://localhost:8080/"
        },
        "id": "CpcfsRrBbFxT",
        "outputId": "17a9d906-22b2-430a-cfbb-db103f699db0"
      },
      "outputs": [
        {
          "output_type": "stream",
          "name": "stdout",
          "text": [
            "<Response [404]>\n"
          ]
        }
      ],
      "source": [
        "import json\n",
        "import requests\n",
        "from sklearn.preprocessing import LabelEncoder, OneHotEncoder\n",
        "\n",
        "url = ' https://fb86-34-106-97-229.ngrok.io/placement_prediction'\n",
        "\n",
        "input_data_for_model = {\n",
        "\n",
        "    'Age' : 20,\n",
        "    'CGPA' : 8,\n",
        "    'Stream' : 1,\n",
        "    'Certification' : 4,\n",
        "    'Internships' : 1,\n",
        "    'HistoryOfBacklogs' : 1,\n",
        "    'Gender' : 0\n",
        "\n",
        "    }\n",
        "\n",
        "input_json = json.dumps(input_data_for_model)\n",
        "\n",
        "response = requests.post(url, data=input_json)\n",
        "\n",
        "print(response)\n"
      ]
    },
    {
      "cell_type": "code",
      "source": [],
      "metadata": {
        "id": "tj2Sv4alcODT"
      },
      "execution_count": null,
      "outputs": []
    }
  ]
}