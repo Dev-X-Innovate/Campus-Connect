{
 "cells": [
  {
   "cell_type": "code",
   "execution_count": 47,
   "id": "8c07ecdf",
   "metadata": {},
   "outputs": [],
   "source": [
    "import numpy as np\n",
    "import pandas as pd\n",
    "import matplotlib.pyplot as plt\n",
    "import seaborn as sns"
   ]
  },
  {
   "cell_type": "code",
   "execution_count": 48,
   "id": "83b52d5e",
   "metadata": {},
   "outputs": [],
   "source": [
    "import os"
   ]
  },
  {
   "cell_type": "code",
   "execution_count": 49,
   "id": "6b8ae99b",
   "metadata": {},
   "outputs": [
    {
     "data": {
      "text/html": [
       "<div>\n",
       "<style scoped>\n",
       "    .dataframe tbody tr th:only-of-type {\n",
       "        vertical-align: middle;\n",
       "    }\n",
       "\n",
       "    .dataframe tbody tr th {\n",
       "        vertical-align: top;\n",
       "    }\n",
       "\n",
       "    .dataframe thead th {\n",
       "        text-align: right;\n",
       "    }\n",
       "</style>\n",
       "<table border=\"1\" class=\"dataframe\">\n",
       "  <thead>\n",
       "    <tr style=\"text-align: right;\">\n",
       "      <th></th>\n",
       "      <th>Age</th>\n",
       "      <th>Gender</th>\n",
       "      <th>Stream</th>\n",
       "      <th>Internships</th>\n",
       "      <th>CGPA</th>\n",
       "      <th>Certification</th>\n",
       "      <th>HistoryOfBacklogs</th>\n",
       "      <th>PlacedOrNot</th>\n",
       "    </tr>\n",
       "  </thead>\n",
       "  <tbody>\n",
       "    <tr>\n",
       "      <th>0</th>\n",
       "      <td>22</td>\n",
       "      <td>Male</td>\n",
       "      <td>Electronics And Communication</td>\n",
       "      <td>1</td>\n",
       "      <td>8</td>\n",
       "      <td>1</td>\n",
       "      <td>1</td>\n",
       "      <td>1</td>\n",
       "    </tr>\n",
       "    <tr>\n",
       "      <th>1</th>\n",
       "      <td>21</td>\n",
       "      <td>Female</td>\n",
       "      <td>Computer Science</td>\n",
       "      <td>0</td>\n",
       "      <td>7</td>\n",
       "      <td>1</td>\n",
       "      <td>1</td>\n",
       "      <td>1</td>\n",
       "    </tr>\n",
       "    <tr>\n",
       "      <th>2</th>\n",
       "      <td>22</td>\n",
       "      <td>Female</td>\n",
       "      <td>Information Technology</td>\n",
       "      <td>1</td>\n",
       "      <td>6</td>\n",
       "      <td>0</td>\n",
       "      <td>0</td>\n",
       "      <td>1</td>\n",
       "    </tr>\n",
       "    <tr>\n",
       "      <th>3</th>\n",
       "      <td>21</td>\n",
       "      <td>Male</td>\n",
       "      <td>Information Technology</td>\n",
       "      <td>0</td>\n",
       "      <td>8</td>\n",
       "      <td>0</td>\n",
       "      <td>1</td>\n",
       "      <td>1</td>\n",
       "    </tr>\n",
       "    <tr>\n",
       "      <th>4</th>\n",
       "      <td>22</td>\n",
       "      <td>Male</td>\n",
       "      <td>Mechanical</td>\n",
       "      <td>0</td>\n",
       "      <td>8</td>\n",
       "      <td>1</td>\n",
       "      <td>0</td>\n",
       "      <td>1</td>\n",
       "    </tr>\n",
       "  </tbody>\n",
       "</table>\n",
       "</div>"
      ],
      "text/plain": [
       "   Age  Gender                         Stream  Internships  CGPA  \\\n",
       "0   22    Male  Electronics And Communication            1     8   \n",
       "1   21  Female               Computer Science            0     7   \n",
       "2   22  Female         Information Technology            1     6   \n",
       "3   21    Male         Information Technology            0     8   \n",
       "4   22    Male                     Mechanical            0     8   \n",
       "\n",
       "   Certification  HistoryOfBacklogs  PlacedOrNot  \n",
       "0              1                  1            1  \n",
       "1              1                  1            1  \n",
       "2              0                  0            1  \n",
       "3              0                  1            1  \n",
       "4              1                  0            1  "
      ]
     },
     "execution_count": 49,
     "metadata": {},
     "output_type": "execute_result"
    }
   ],
   "source": [
    "df = pd.read_csv('collegePlace.csv')\n",
    "df.head()"
   ]
  },
  {
   "cell_type": "code",
   "execution_count": 50,
   "id": "1fa5bad6",
   "metadata": {},
   "outputs": [
    {
     "name": "stdout",
     "output_type": "stream",
     "text": [
      "<class 'pandas.core.frame.DataFrame'>\n",
      "RangeIndex: 2966 entries, 0 to 2965\n",
      "Data columns (total 8 columns):\n",
      " #   Column             Non-Null Count  Dtype \n",
      "---  ------             --------------  ----- \n",
      " 0   Age                2966 non-null   int64 \n",
      " 1   Gender             2966 non-null   object\n",
      " 2   Stream             2966 non-null   object\n",
      " 3   Internships        2966 non-null   int64 \n",
      " 4   CGPA               2966 non-null   int64 \n",
      " 5   Certification      2966 non-null   int64 \n",
      " 6   HistoryOfBacklogs  2966 non-null   int64 \n",
      " 7   PlacedOrNot        2966 non-null   int64 \n",
      "dtypes: int64(6), object(2)\n",
      "memory usage: 185.5+ KB\n"
     ]
    }
   ],
   "source": [
    "df.info()"
   ]
  },
  {
   "cell_type": "code",
   "execution_count": 51,
   "id": "382e7149",
   "metadata": {},
   "outputs": [
    {
     "data": {
      "text/plain": [
       "Age                  0\n",
       "Gender               0\n",
       "Stream               0\n",
       "Internships          0\n",
       "CGPA                 0\n",
       "Certification        0\n",
       "HistoryOfBacklogs    0\n",
       "PlacedOrNot          0\n",
       "dtype: int64"
      ]
     },
     "execution_count": 51,
     "metadata": {},
     "output_type": "execute_result"
    }
   ],
   "source": [
    "df.isna().sum()"
   ]
  },
  {
   "cell_type": "code",
   "execution_count": 52,
   "id": "57f0ec3a",
   "metadata": {},
   "outputs": [
    {
     "data": {
      "text/plain": [
       "array(['Electronics And Communication', 'Computer Science',\n",
       "       'Information Technology', 'Mechanical', 'Electrical', 'Civil'],\n",
       "      dtype=object)"
      ]
     },
     "execution_count": 52,
     "metadata": {},
     "output_type": "execute_result"
    }
   ],
   "source": [
    "df.Stream.unique()"
   ]
  },
  {
   "cell_type": "markdown",
   "id": "b825fcd3",
   "metadata": {},
   "source": [
    "# Plotting all the Columns to see the behavior of the Dataset"
   ]
  },
  {
   "cell_type": "code",
   "execution_count": 53,
   "id": "2b0a7bbd",
   "metadata": {},
   "outputs": [
    {
     "data": {
      "text/plain": [
       "<Axes: xlabel='Stream', ylabel='PlacedOrNot'>"
      ]
     },
     "execution_count": 53,
     "metadata": {},
     "output_type": "execute_result"
    },
    {
     "data": {
      "image/png": "[encoded data removed]",
      "text/plain": [
       "<Figure size 640x480 with 1 Axes>"
      ]
     },
     "metadata": {},
     "output_type": "display_data"
    }
   ],
   "source": [
    "plt.xticks(rotation=90)\n",
    "sns.barplot(x=df.Stream, y=df.PlacedOrNot)"
   ]
  },
  {
   "cell_type": "code",
   "execution_count": 54,
   "id": "d56a8c18",
   "metadata": {},
   "outputs": [
    {
     "data": {
      "text/plain": [
       "array([22, 21, 23, 24, 28, 30, 25, 26, 20, 19, 29], dtype=int64)"
      ]
     },
     "execution_count": 54,
     "metadata": {},
     "output_type": "execute_result"
    }
   ],
   "source": [
    "df.Age.unique()"
   ]
  },
  {
   "cell_type": "code",
   "execution_count": 55,
   "id": "8c06c942",
   "metadata": {},
   "outputs": [
    {
     "data": {
      "text/plain": [
       "<Axes: xlabel='Age', ylabel='PlacedOrNot'>"
      ]
     },
     "execution_count": 55,
     "metadata": {},
     "output_type": "execute_result"
    },
    {
     "data": {
      "image/png": "[encoded data removed]",
      "text/plain": [
       "<Figure size 1200x700 with 1 Axes>"
      ]
     },
     "metadata": {},
     "output_type": "display_data"
    }
   ],
   "source": [
    "plt.figure(figsize=(12, 7))\n",
    "sns.barplot(x=df.Age, y=df.PlacedOrNot, hue=df.Gender)"
   ]
  },
  {
   "cell_type": "code",
   "execution_count": 56,
   "id": "00d35b5b",
   "metadata": {},
   "outputs": [
    {
     "data": {
      "text/plain": [
       "<Axes: xlabel='Age', ylabel='count'>"
      ]
     },
     "execution_count": 56,
     "metadata": {},
     "output_type": "execute_result"
    },
    {
     "data": {
      "image/png": "[encoded data removed]",
      "text/plain": [
       "<Figure size 700x500 with 1 Axes>"
      ]
     },
     "metadata": {},
     "output_type": "display_data"
    }
   ],
   "source": [
    "plt.figure(figsize=(7, 5))\n",
    "sns.countplot(x=df.Age)"
   ]
  },
  {
   "cell_type": "code",
   "execution_count": 57,
   "id": "fae4a64a",
   "metadata": {},
   "outputs": [
    {
     "data": {
      "text/plain": [
       "<Axes: xlabel='Internships', ylabel='PlacedOrNot'>"
      ]
     },
     "execution_count": 57,
     "metadata": {},
     "output_type": "execute_result"
    },
    {
     "data": {
      "image/png": "[encoded data removed]",
      "text/plain": [
       "<Figure size 640x480 with 1 Axes>"
      ]
     },
     "metadata": {},
     "output_type": "display_data"
    }
   ],
   "source": [
    "df.Age.value_counts()\n",
    "sns.barplot(x=df.Internships, y=df.PlacedOrNot)"
   ]
  },
  {
   "cell_type": "code",
   "execution_count": 58,
   "id": "9773aa88",
   "metadata": {},
   "outputs": [
    {
     "data": {
      "text/plain": [
       "0    1331\n",
       "1    1234\n",
       "2     350\n",
       "3      51\n",
       "Name: Internships, dtype: int64"
      ]
     },
     "execution_count": 58,
     "metadata": {},
     "output_type": "execute_result"
    }
   ],
   "source": [
    "df.Internships.value_counts()"
   ]
  },
  {
   "cell_type": "code",
   "execution_count": 59,
   "id": "f45a0c66",
   "metadata": {},
   "outputs": [
    {
     "data": {
      "text/plain": [
       "7    956\n",
       "8    915\n",
       "6    834\n",
       "9    165\n",
       "5     96\n",
       "Name: CGPA, dtype: int64"
      ]
     },
     "execution_count": 59,
     "metadata": {},
     "output_type": "execute_result"
    }
   ],
   "source": [
    "df.CGPA.value_counts()"
   ]
  },
  {
   "cell_type": "code",
   "execution_count": 60,
   "id": "4881aa98",
   "metadata": {},
   "outputs": [
    {
     "data": {
      "text/plain": [
       "<Axes: xlabel='CGPA', ylabel='PlacedOrNot'>"
      ]
     },
     "execution_count": 60,
     "metadata": {},
     "output_type": "execute_result"
    },
    {
     "data": {
      "image/png": "[encoded data removed]",
      "text/plain": [
       "<Figure size 640x480 with 1 Axes>"
      ]
     },
     "metadata": {},
     "output_type": "display_data"
    }
   ],
   "source": [
    "sns.barplot(x=df.CGPA, y=df.PlacedOrNot)"
   ]
  },
  {
   "cell_type": "code",
   "execution_count": 61,
   "id": "9bb05191",
   "metadata": {},
   "outputs": [
    {
     "data": {
      "text/plain": [
       "<Axes: xlabel='Certification', ylabel='PlacedOrNot'>"
      ]
     },
     "execution_count": 61,
     "metadata": {},
     "output_type": "execute_result"
    },
    {
     "data": {
      "image/png": "[encoded data removed]",
      "text/plain": [
       "<Figure size 640x480 with 1 Axes>"
      ]
     },
     "metadata": {},
     "output_type": "display_data"
    }
   ],
   "source": [
    "sns.barplot(x=df.Certification, y=df.PlacedOrNot)"
   ]
  },
  {
   "cell_type": "code",
   "execution_count": 62,
   "id": "1adea4d4",
   "metadata": {},
   "outputs": [
    {
     "data": {
      "text/plain": [
       "<Axes: xlabel='Gender', ylabel='PlacedOrNot'>"
      ]
     },
     "execution_count": 62,
     "metadata": {},
     "output_type": "execute_result"
    },
    {
     "data": {
      "image/png": "[encoded data removed]",
      "text/plain": [
       "<Figure size 640x480 with 1 Axes>"
      ]
     },
     "metadata": {},
     "output_type": "display_data"
    }
   ],
   "source": [
    "sns.barplot(x=df.Gender, y=df.PlacedOrNot)"
   ]
  },
  {
   "cell_type": "code",
   "execution_count": 63,
   "id": "c4b51e6e",
   "metadata": {},
   "outputs": [
    {
     "data": {
      "text/plain": [
       "<Axes: xlabel='HistoryOfBacklogs', ylabel='PlacedOrNot'>"
      ]
     },
     "execution_count": 63,
     "metadata": {},
     "output_type": "execute_result"
    },
    {
     "data": {
      "image/png": "[encoded data removed]",
      "text/plain": [
       "<Figure size 640x480 with 1 Axes>"
      ]
     },
     "metadata": {},
     "output_type": "display_data"
    }
   ],
   "source": [
    "sns.barplot(x=df.HistoryOfBacklogs, y=df.PlacedOrNot)"
   ]
  },
  {
   "cell_type": "code",
   "execution_count": 64,
   "id": "62ff19a0",
   "metadata": {},
   "outputs": [],
   "source": [
    "from sklearn.preprocessing import LabelEncoder\n",
    "le = LabelEncoder()\n",
    "df.Gender = le.fit_transform(df.Gender)\n",
    "df.Stream = le.fit_transform(df.Stream)"
   ]
  },
  {
   "cell_type": "markdown",
   "id": "6f7f4f09",
   "metadata": {},
   "source": [
    "# Dropping Placed or not for x as x will be trained"
   ]
  },
  {
   "cell_type": "code",
   "execution_count": 65,
   "id": "81940101",
   "metadata": {},
   "outputs": [],
   "source": [
    "# df = df.drop(['Certification'], axis=1)\n",
    "x = df.drop(['PlacedOrNot'], axis=1)\n",
    "y = df.PlacedOrNot"
   ]
  },
  {
   "cell_type": "code",
   "execution_count": 66,
   "id": "e5360150",
   "metadata": {},
   "outputs": [],
   "source": [
    "from sklearn.svm import SVC\n",
    "from sklearn.tree import DecisionTreeClassifier\n",
    "from sklearn.linear_model import LogisticRegression\n",
    "from sklearn.ensemble import RandomForestClassifier\n",
    "from sklearn.neighbors import KNeighborsClassifier\n",
    "from sklearn.model_selection import cross_val_score"
   ]
  },
  {
   "cell_type": "code",
   "execution_count": 67,
   "id": "99814278",
   "metadata": {},
   "outputs": [
    {
     "data": {
      "text/plain": [
       "array([0.82912032, 0.81193124, 0.88259109])"
      ]
     },
     "execution_count": 67,
     "metadata": {},
     "output_type": "execute_result"
    }
   ],
   "source": [
    "cross_val_score(SVC(), x, y, cv=3)\n",
    "cross_val_score(DecisionTreeClassifier(), x, y, cv=3)\n",
    "cross_val_score(LogisticRegression(), x, y, cv=3)\n",
    "cross_val_score(RandomForestClassifier(n_estimators=50), x, y, cv=3)\n",
    "cross_val_score(KNeighborsClassifier(), x, y, cv=3)"
   ]
  },
  {
   "cell_type": "markdown",
   "id": "da95154d",
   "metadata": {},
   "source": [
    "# Random Forest Classifier"
   ]
  },
  {
   "cell_type": "code",
   "execution_count": 68,
   "id": "b27b7545",
   "metadata": {},
   "outputs": [],
   "source": [
    "from sklearn.model_selection import train_test_split\n",
    "X_train, X_test, y_train, y_test = train_test_split(x, y, test_size=0.2)\n",
    "rf = RandomForestClassifier()\n",
    "rf.fit(X_train, y_train)\n",
    "y_pred = rf.predict(X_test)"
   ]
  },
  {
   "cell_type": "code",
   "execution_count": 69,
   "id": "8ec6e36d",
   "metadata": {},
   "outputs": [
    {
     "data": {
      "text/plain": [
       "<Axes: >"
      ]
     },
     "execution_count": 69,
     "metadata": {},
     "output_type": "execute_result"
    },
    {
     "data": {
      "image/png": "[encoded data removed]",
      "text/plain": [
       "<Figure size 640x480 with 2 Axes>"
      ]
     },
     "metadata": {},
     "output_type": "display_data"
    }
   ],
   "source": [
    "from sklearn.metrics import confusion_matrix\n",
    "cm = confusion_matrix(y_test, y_pred)\n",
    "sns.heatmap(cm, annot=True)"
   ]
  },
  {
   "cell_type": "code",
   "execution_count": 70,
   "id": "934a0321",
   "metadata": {},
   "outputs": [
    {
     "name": "stdout",
     "output_type": "stream",
     "text": [
      "Accuracy: 0.8619528619528619\n"
     ]
    }
   ],
   "source": [
    "from sklearn.metrics import accuracy_score\n",
    "accuracy = accuracy_score(y_test, y_pred)\n",
    "print(\"Accuracy:\", accuracy)"
   ]
  },
  {
   "cell_type": "code",
   "execution_count": 71,
   "id": "dfe422a8",
   "metadata": {},
   "outputs": [
    {
     "name": "stdout",
     "output_type": "stream",
     "text": [
      "\n",
      "Feature Importances:\n",
      "CGPA: 0.657478753745502\n",
      "Age: 0.12166700081506668\n",
      "Internships: 0.09429176900280686\n",
      "Stream: 0.08294937357986124\n",
      "HistoryOfBacklogs: 0.0198561428191762\n",
      "Certification: 0.012129190473747333\n",
      "Gender: 0.011627769563839629\n"
     ]
    }
   ],
   "source": [
    "feature_names = list(df.columns)\n",
    "feature_importances = rf.feature_importances_\n",
    "sorted_idx = feature_importances.argsort()[::-1]\n",
    "\n",
    "print(\"\\nFeature Importances:\")\n",
    "for idx in sorted_idx:\n",
    "    print(f\"{feature_names[idx]}: {feature_importances[idx]}\")"
   ]
  },
  {
   "cell_type": "code",
   "execution_count": 72,
   "id": "6d907c16",
   "metadata": {},
   "outputs": [],
   "source": [
    "misclassifications = (y_pred == 0) & (y_test == 1)\n",
    "misclassified_samples = X_test[misclassifications]\n"
   ]
  },
  {
   "cell_type": "code",
   "execution_count": 73,
   "id": "a4c6e4cc",
   "metadata": {},
   "outputs": [
    {
     "name": "stdout",
     "output_type": "stream",
     "text": [
      "Misclassified Sample:\n",
      "Age: 21\n",
      "Gender: 1\n",
      "Stream: 1\n",
      "Internships: 1\n",
      "CGPA: 7\n",
      "Certification: 0\n",
      "HistoryOfBacklogs: 0\n",
      "------\n",
      "Misclassified Sample:\n",
      "Age: 24\n",
      "Gender: 1\n",
      "Stream: 0\n",
      "Internships: 0\n",
      "CGPA: 7\n",
      "Certification: 0\n",
      "HistoryOfBacklogs: 0\n",
      "------\n",
      "Misclassified Sample:\n",
      "Age: 22\n",
      "Gender: 1\n",
      "Stream: 1\n",
      "Internships: 0\n",
      "CGPA: 6\n",
      "Certification: 0\n",
      "HistoryOfBacklogs: 0\n",
      "------\n",
      "Misclassified Sample:\n",
      "Age: 23\n",
      "Gender: 1\n",
      "Stream: 4\n",
      "Internships: 1\n",
      "CGPA: 5\n",
      "Certification: 0\n",
      "HistoryOfBacklogs: 0\n",
      "------\n",
      "Misclassified Sample:\n",
      "Age: 22\n",
      "Gender: 1\n",
      "Stream: 4\n",
      "Internships: 0\n",
      "CGPA: 6\n",
      "Certification: 0\n",
      "HistoryOfBacklogs: 0\n",
      "------\n",
      "Misclassified Sample:\n",
      "Age: 22\n",
      "Gender: 1\n",
      "Stream: 4\n",
      "Internships: 2\n",
      "CGPA: 7\n",
      "Certification: 0\n",
      "HistoryOfBacklogs: 1\n",
      "------\n",
      "Misclassified Sample:\n",
      "Age: 21\n",
      "Gender: 1\n",
      "Stream: 1\n",
      "Internships: 0\n",
      "CGPA: 7\n",
      "Certification: 0\n",
      "HistoryOfBacklogs: 0\n",
      "------\n",
      "Misclassified Sample:\n",
      "Age: 22\n",
      "Gender: 1\n",
      "Stream: 4\n",
      "Internships: 2\n",
      "CGPA: 7\n",
      "Certification: 0\n",
      "HistoryOfBacklogs: 1\n",
      "------\n",
      "Misclassified Sample:\n",
      "Age: 22\n",
      "Gender: 1\n",
      "Stream: 1\n",
      "Internships: 1\n",
      "CGPA: 7\n",
      "Certification: 0\n",
      "HistoryOfBacklogs: 0\n",
      "------\n",
      "Misclassified Sample:\n",
      "Age: 22\n",
      "Gender: 1\n",
      "Stream: 1\n",
      "Internships: 1\n",
      "CGPA: 7\n",
      "Certification: 0\n",
      "HistoryOfBacklogs: 0\n",
      "------\n",
      "Misclassified Sample:\n",
      "Age: 22\n",
      "Gender: 1\n",
      "Stream: 5\n",
      "Internships: 0\n",
      "CGPA: 7\n",
      "Certification: 1\n",
      "HistoryOfBacklogs: 0\n",
      "------\n",
      "Misclassified Sample:\n",
      "Age: 23\n",
      "Gender: 1\n",
      "Stream: 2\n",
      "Internships: 1\n",
      "CGPA: 7\n",
      "Certification: 0\n",
      "HistoryOfBacklogs: 0\n",
      "------\n",
      "Misclassified Sample:\n",
      "Age: 21\n",
      "Gender: 1\n",
      "Stream: 4\n",
      "Internships: 1\n",
      "CGPA: 6\n",
      "Certification: 1\n",
      "HistoryOfBacklogs: 1\n",
      "------\n",
      "Misclassified Sample:\n",
      "Age: 21\n",
      "Gender: 1\n",
      "Stream: 2\n",
      "Internships: 0\n",
      "CGPA: 7\n",
      "Certification: 0\n",
      "HistoryOfBacklogs: 0\n",
      "------\n",
      "Misclassified Sample:\n",
      "Age: 21\n",
      "Gender: 1\n",
      "Stream: 5\n",
      "Internships: 0\n",
      "CGPA: 7\n",
      "Certification: 1\n",
      "HistoryOfBacklogs: 0\n",
      "------\n",
      "Misclassified Sample:\n",
      "Age: 20\n",
      "Gender: 0\n",
      "Stream: 1\n",
      "Internships: 0\n",
      "CGPA: 7\n",
      "Certification: 1\n",
      "HistoryOfBacklogs: 1\n",
      "------\n",
      "Misclassified Sample:\n",
      "Age: 20\n",
      "Gender: 1\n",
      "Stream: 2\n",
      "Internships: 1\n",
      "CGPA: 6\n",
      "Certification: 0\n",
      "HistoryOfBacklogs: 0\n",
      "------\n",
      "Misclassified Sample:\n",
      "Age: 22\n",
      "Gender: 1\n",
      "Stream: 0\n",
      "Internships: 1\n",
      "CGPA: 6\n",
      "Certification: 0\n",
      "HistoryOfBacklogs: 0\n",
      "------\n",
      "Misclassified Sample:\n",
      "Age: 20\n",
      "Gender: 1\n",
      "Stream: 4\n",
      "Internships: 0\n",
      "CGPA: 7\n",
      "Certification: 0\n",
      "HistoryOfBacklogs: 1\n",
      "------\n",
      "Misclassified Sample:\n",
      "Age: 22\n",
      "Gender: 0\n",
      "Stream: 4\n",
      "Internships: 0\n",
      "CGPA: 6\n",
      "Certification: 0\n",
      "HistoryOfBacklogs: 0\n",
      "------\n",
      "Misclassified Sample:\n",
      "Age: 23\n",
      "Gender: 1\n",
      "Stream: 1\n",
      "Internships: 1\n",
      "CGPA: 6\n",
      "Certification: 0\n",
      "HistoryOfBacklogs: 0\n",
      "------\n",
      "Misclassified Sample:\n",
      "Age: 21\n",
      "Gender: 1\n",
      "Stream: 2\n",
      "Internships: 1\n",
      "CGPA: 6\n",
      "Certification: 0\n",
      "HistoryOfBacklogs: 0\n",
      "------\n",
      "Misclassified Sample:\n",
      "Age: 21\n",
      "Gender: 1\n",
      "Stream: 0\n",
      "Internships: 0\n",
      "CGPA: 6\n",
      "Certification: 0\n",
      "HistoryOfBacklogs: 0\n",
      "------\n",
      "Misclassified Sample:\n",
      "Age: 21\n",
      "Gender: 1\n",
      "Stream: 4\n",
      "Internships: 1\n",
      "CGPA: 6\n",
      "Certification: 0\n",
      "HistoryOfBacklogs: 0\n",
      "------\n",
      "Misclassified Sample:\n",
      "Age: 22\n",
      "Gender: 1\n",
      "Stream: 1\n",
      "Internships: 2\n",
      "CGPA: 7\n",
      "Certification: 0\n",
      "HistoryOfBacklogs: 0\n",
      "------\n",
      "Misclassified Sample:\n",
      "Age: 22\n",
      "Gender: 1\n",
      "Stream: 4\n",
      "Internships: 2\n",
      "CGPA: 7\n",
      "Certification: 0\n",
      "HistoryOfBacklogs: 1\n",
      "------\n",
      "Misclassified Sample:\n",
      "Age: 21\n",
      "Gender: 1\n",
      "Stream: 0\n",
      "Internships: 0\n",
      "CGPA: 7\n",
      "Certification: 0\n",
      "HistoryOfBacklogs: 0\n",
      "------\n",
      "Misclassified Sample:\n",
      "Age: 22\n",
      "Gender: 0\n",
      "Stream: 1\n",
      "Internships: 1\n",
      "CGPA: 6\n",
      "Certification: 1\n",
      "HistoryOfBacklogs: 0\n",
      "------\n",
      "Misclassified Sample:\n",
      "Age: 22\n",
      "Gender: 0\n",
      "Stream: 4\n",
      "Internships: 2\n",
      "CGPA: 7\n",
      "Certification: 1\n",
      "HistoryOfBacklogs: 0\n",
      "------\n",
      "Misclassified Sample:\n",
      "Age: 22\n",
      "Gender: 1\n",
      "Stream: 4\n",
      "Internships: 0\n",
      "CGPA: 7\n",
      "Certification: 0\n",
      "HistoryOfBacklogs: 0\n",
      "------\n",
      "Misclassified Sample:\n",
      "Age: 22\n",
      "Gender: 1\n",
      "Stream: 5\n",
      "Internships: 0\n",
      "CGPA: 6\n",
      "Certification: 1\n",
      "HistoryOfBacklogs: 1\n",
      "------\n",
      "Misclassified Sample:\n",
      "Age: 24\n",
      "Gender: 0\n",
      "Stream: 3\n",
      "Internships: 1\n",
      "CGPA: 7\n",
      "Certification: 1\n",
      "HistoryOfBacklogs: 1\n",
      "------\n",
      "Misclassified Sample:\n",
      "Age: 22\n",
      "Gender: 0\n",
      "Stream: 4\n",
      "Internships: 1\n",
      "CGPA: 7\n",
      "Certification: 1\n",
      "HistoryOfBacklogs: 0\n",
      "------\n",
      "Misclassified Sample:\n",
      "Age: 22\n",
      "Gender: 1\n",
      "Stream: 1\n",
      "Internships: 1\n",
      "CGPA: 7\n",
      "Certification: 0\n",
      "HistoryOfBacklogs: 0\n",
      "------\n",
      "Misclassified Sample:\n",
      "Age: 25\n",
      "Gender: 0\n",
      "Stream: 1\n",
      "Internships: 1\n",
      "CGPA: 7\n",
      "Certification: 1\n",
      "HistoryOfBacklogs: 0\n",
      "------\n",
      "Misclassified Sample:\n",
      "Age: 22\n",
      "Gender: 1\n",
      "Stream: 4\n",
      "Internships: 0\n",
      "CGPA: 7\n",
      "Certification: 0\n",
      "HistoryOfBacklogs: 0\n",
      "------\n",
      "Misclassified Sample:\n",
      "Age: 19\n",
      "Gender: 1\n",
      "Stream: 1\n",
      "Internships: 0\n",
      "CGPA: 7\n",
      "Certification: 0\n",
      "HistoryOfBacklogs: 1\n",
      "------\n",
      "Misclassified Sample:\n",
      "Age: 22\n",
      "Gender: 0\n",
      "Stream: 4\n",
      "Internships: 1\n",
      "CGPA: 7\n",
      "Certification: 0\n",
      "HistoryOfBacklogs: 0\n",
      "------\n",
      "Misclassified Sample:\n",
      "Age: 22\n",
      "Gender: 1\n",
      "Stream: 1\n",
      "Internships: 1\n",
      "CGPA: 7\n",
      "Certification: 0\n",
      "HistoryOfBacklogs: 0\n",
      "------\n",
      "Misclassified Sample:\n",
      "Age: 22\n",
      "Gender: 1\n",
      "Stream: 1\n",
      "Internships: 1\n",
      "CGPA: 6\n",
      "Certification: 0\n",
      "HistoryOfBacklogs: 0\n",
      "------\n",
      "Misclassified Sample:\n",
      "Age: 19\n",
      "Gender: 1\n",
      "Stream: 3\n",
      "Internships: 1\n",
      "CGPA: 6\n",
      "Certification: 0\n",
      "HistoryOfBacklogs: 1\n",
      "------\n",
      "Misclassified Sample:\n",
      "Age: 20\n",
      "Gender: 0\n",
      "Stream: 4\n",
      "Internships: 1\n",
      "CGPA: 7\n",
      "Certification: 1\n",
      "HistoryOfBacklogs: 0\n",
      "------\n",
      "Misclassified Sample:\n",
      "Age: 24\n",
      "Gender: 1\n",
      "Stream: 4\n",
      "Internships: 0\n",
      "CGPA: 5\n",
      "Certification: 0\n",
      "HistoryOfBacklogs: 0\n",
      "------\n",
      "Misclassified Sample:\n",
      "Age: 22\n",
      "Gender: 1\n",
      "Stream: 1\n",
      "Internships: 0\n",
      "CGPA: 6\n",
      "Certification: 0\n",
      "HistoryOfBacklogs: 0\n",
      "------\n",
      "Misclassified Sample:\n",
      "Age: 22\n",
      "Gender: 1\n",
      "Stream: 4\n",
      "Internships: 1\n",
      "CGPA: 7\n",
      "Certification: 0\n",
      "HistoryOfBacklogs: 1\n",
      "------\n",
      "Misclassified Sample:\n",
      "Age: 21\n",
      "Gender: 1\n",
      "Stream: 4\n",
      "Internships: 1\n",
      "CGPA: 7\n",
      "Certification: 0\n",
      "HistoryOfBacklogs: 0\n",
      "------\n",
      "Misclassified Sample:\n",
      "Age: 22\n",
      "Gender: 1\n",
      "Stream: 1\n",
      "Internships: 2\n",
      "CGPA: 7\n",
      "Certification: 0\n",
      "HistoryOfBacklogs: 0\n",
      "------\n",
      "Misclassified Sample:\n",
      "Age: 21\n",
      "Gender: 1\n",
      "Stream: 4\n",
      "Internships: 0\n",
      "CGPA: 7\n",
      "Certification: 0\n",
      "HistoryOfBacklogs: 0\n",
      "------\n",
      "Misclassified Sample:\n",
      "Age: 21\n",
      "Gender: 1\n",
      "Stream: 1\n",
      "Internships: 1\n",
      "CGPA: 6\n",
      "Certification: 0\n",
      "HistoryOfBacklogs: 0\n",
      "------\n",
      "Misclassified Sample:\n",
      "Age: 21\n",
      "Gender: 0\n",
      "Stream: 4\n",
      "Internships: 0\n",
      "CGPA: 7\n",
      "Certification: 0\n",
      "HistoryOfBacklogs: 0\n",
      "------\n",
      "Misclassified Sample:\n",
      "Age: 23\n",
      "Gender: 1\n",
      "Stream: 5\n",
      "Internships: 1\n",
      "CGPA: 6\n",
      "Certification: 1\n",
      "HistoryOfBacklogs: 1\n",
      "------\n",
      "Misclassified Sample:\n",
      "Age: 22\n",
      "Gender: 1\n",
      "Stream: 1\n",
      "Internships: 1\n",
      "CGPA: 7\n",
      "Certification: 0\n",
      "HistoryOfBacklogs: 0\n",
      "------\n",
      "Misclassified Sample:\n",
      "Age: 25\n",
      "Gender: 1\n",
      "Stream: 4\n",
      "Internships: 0\n",
      "CGPA: 7\n",
      "Certification: 0\n",
      "HistoryOfBacklogs: 0\n",
      "------\n",
      "Misclassified Sample:\n",
      "Age: 23\n",
      "Gender: 1\n",
      "Stream: 3\n",
      "Internships: 1\n",
      "CGPA: 6\n",
      "Certification: 0\n",
      "HistoryOfBacklogs: 1\n",
      "------\n",
      "Misclassified Sample:\n",
      "Age: 19\n",
      "Gender: 1\n",
      "Stream: 3\n",
      "Internships: 1\n",
      "CGPA: 7\n",
      "Certification: 0\n",
      "HistoryOfBacklogs: 0\n",
      "------\n",
      "Misclassified Sample:\n",
      "Age: 22\n",
      "Gender: 1\n",
      "Stream: 4\n",
      "Internships: 1\n",
      "CGPA: 6\n",
      "Certification: 0\n",
      "HistoryOfBacklogs: 0\n",
      "------\n",
      "Misclassified Sample:\n",
      "Age: 22\n",
      "Gender: 1\n",
      "Stream: 1\n",
      "Internships: 1\n",
      "CGPA: 7\n",
      "Certification: 0\n",
      "HistoryOfBacklogs: 0\n",
      "------\n",
      "Misclassified Sample:\n",
      "Age: 21\n",
      "Gender: 1\n",
      "Stream: 3\n",
      "Internships: 1\n",
      "CGPA: 7\n",
      "Certification: 0\n",
      "HistoryOfBacklogs: 0\n",
      "------\n",
      "Misclassified Sample:\n",
      "Age: 21\n",
      "Gender: 1\n",
      "Stream: 0\n",
      "Internships: 0\n",
      "CGPA: 7\n",
      "Certification: 1\n",
      "HistoryOfBacklogs: 0\n",
      "------\n",
      "Misclassified Sample:\n",
      "Age: 21\n",
      "Gender: 1\n",
      "Stream: 4\n",
      "Internships: 0\n",
      "CGPA: 6\n",
      "Certification: 0\n",
      "HistoryOfBacklogs: 0\n",
      "------\n",
      "Misclassified Sample:\n",
      "Age: 21\n",
      "Gender: 1\n",
      "Stream: 5\n",
      "Internships: 0\n",
      "CGPA: 6\n",
      "Certification: 1\n",
      "HistoryOfBacklogs: 1\n",
      "------\n",
      "Misclassified Sample:\n",
      "Age: 24\n",
      "Gender: 0\n",
      "Stream: 1\n",
      "Internships: 1\n",
      "CGPA: 7\n",
      "Certification: 1\n",
      "HistoryOfBacklogs: 0\n",
      "------\n",
      "Misclassified Sample:\n",
      "Age: 20\n",
      "Gender: 1\n",
      "Stream: 3\n",
      "Internships: 1\n",
      "CGPA: 7\n",
      "Certification: 0\n",
      "HistoryOfBacklogs: 0\n",
      "------\n",
      "Misclassified Sample:\n",
      "Age: 22\n",
      "Gender: 1\n",
      "Stream: 3\n",
      "Internships: 1\n",
      "CGPA: 7\n",
      "Certification: 1\n",
      "HistoryOfBacklogs: 1\n",
      "------\n",
      "Misclassified Sample:\n",
      "Age: 20\n",
      "Gender: 1\n",
      "Stream: 0\n",
      "Internships: 1\n",
      "CGPA: 6\n",
      "Certification: 1\n",
      "HistoryOfBacklogs: 0\n",
      "------\n"
     ]
    }
   ],
   "source": [
    "# Assuming your dataset is a Pandas DataFrame and misclassified_samples is a DataFrame containing misclassified samples\n",
    "for index, row in misclassified_samples.iterrows():\n",
    "    print(\"Misclassified Sample:\")\n",
    "    for feature_name, feature_value in row.items():\n",
    "        print(f\"{feature_name}: {feature_value}\")\n",
    "    print(\"------\")"
   ]
  },
  {
   "cell_type": "markdown",
   "id": "dcb4444c",
   "metadata": {},
   "source": [
    "## 1. CGPA (Cumulative Grade Point Average): Several misclassified samples have a CGPA below 7, which might be a threshold for placement eligibility in your model.\n",
    "\n",
    "## 2.Internships: Students with fewer or no internships are more likely to be misclassified. Internship experience seems to be a significant factor.\n",
    "\n",
    "## 3.History of Backlogs: Students with a history of backlogs are also more likely to be misclassified. This indicates that their academic performance might be a deciding factor.\n",
    "\n",
    "## 4.Stream: The choice of stream could influence placement. Some streams(probably comps and Extc) might have higher placement rates.\n",
    "\n",
    "## 5.Certification: Students without certifications are more likely to be misclassified. Having relevant certifications could improve placement chances.\n",
    "\n",
    "## 6.Age and Gender: These features might not play a significant role in placement, as they are not consistently different among misclassified samples.\n",
    "\n",
    "### To show this information in the output,we created a summary report that highlights these observations. For example:\n",
    "\n",
    "### 1. Placement Analysis Summary:\n",
    "### 2.Students with CGPA below 7 were consistently not placed.\n",
    "### 3.Lack of internship experience adversely affected placement outcomes.\n",
    "### 4.History of backlogs impacted placement results, indicating academic performance's importance.\n",
    "### 5.Certain streams and certifications positively influenced placement rates."
   ]
  },
  {
   "cell_type": "code",
   "execution_count": 74,
   "id": "66c79cce",
   "metadata": {},
   "outputs": [],
   "source": [
    "import joblib\n",
    "joblib.dump(rf, 'rf.pkl')\n",
    "loaded_model = joblib.load('rf.pkl')"
   ]
  },
  {
   "cell_type": "code",
   "execution_count": 75,
   "id": "04024d2f",
   "metadata": {},
   "outputs": [
    {
     "name": "stdout",
     "output_type": "stream",
     "text": [
      "Epoch 1/10\n",
      "75/75 [==============================] - 1s 1ms/step - loss: 1.1136 - accuracy: 0.4747\n",
      "Epoch 2/10\n",
      "75/75 [==============================] - 0s 2ms/step - loss: 0.6239 - accuracy: 0.6573\n",
      "Epoch 3/10\n",
      "75/75 [==============================] - 0s 2ms/step - loss: 0.5826 - accuracy: 0.7045\n",
      "Epoch 4/10\n",
      "75/75 [==============================] - 0s 2ms/step - loss: 0.5618 - accuracy: 0.7306\n",
      "Epoch 5/10\n",
      "75/75 [==============================] - 0s 2ms/step - loss: 0.5498 - accuracy: 0.7310\n",
      "Epoch 6/10\n",
      "75/75 [==============================] - 0s 2ms/step - loss: 0.5398 - accuracy: 0.7395\n",
      "Epoch 7/10\n",
      "75/75 [==============================] - 0s 2ms/step - loss: 0.5301 - accuracy: 0.7437\n",
      "Epoch 8/10\n",
      "75/75 [==============================] - 0s 2ms/step - loss: 0.5267 - accuracy: 0.7496\n",
      "Epoch 9/10\n",
      "75/75 [==============================] - 0s 1ms/step - loss: 0.5270 - accuracy: 0.7601\n",
      "Epoch 10/10\n",
      "75/75 [==============================] - 0s 2ms/step - loss: 0.5195 - accuracy: 0.7530\n"
     ]
    }
   ],
   "source": [
    "import tensorflow as tf\n",
    "\n",
    "model = tf.keras.Sequential([\n",
    "  tf.keras.layers.Dense(128, activation='relu', input_shape=(7,)),  # Update input_shape to (7,)\n",
    "  tf.keras.layers.Dense(10, activation='softmax')\n",
    "])\n",
    "\n",
    "\n",
    "X_train, X_test, y_train, y_test = train_test_split(x, y, test_size=0.2)\n",
    "\n",
    "model.compile(optimizer='adam',\n",
    "              loss='sparse_categorical_crossentropy',\n",
    "              metrics=['accuracy'])\n",
    "\n",
    "model.fit(X_train, y_train, epochs=10)\n",
    "\n",
    "# Save the model to a file\n",
    "model.save('model.h5')"
   ]
  },
  {
   "cell_type": "markdown",
   "id": "1542c6fe",
   "metadata": {},
   "source": [
    "# Gradient Boosting"
   ]
  },
  {
   "cell_type": "code",
   "execution_count": 76,
   "id": "ed0710b3",
   "metadata": {},
   "outputs": [],
   "source": [
    "from sklearn.ensemble import GradientBoostingClassifier"
   ]
  },
  {
   "cell_type": "code",
   "execution_count": 77,
   "id": "935d6843",
   "metadata": {},
   "outputs": [
    {
     "data": {
      "text/html": [
       "<style>#sk-container-id-3 {color: black;background-color: white;}#sk-container-id-3 pre{padding: 0;}#sk-container-id-3 div.sk-toggleable {background-color: white;}#sk-container-id-3 label.sk-toggleable__label {cursor: pointer;display: block;width: 100%;margin-bottom: 0;padding: 0.3em;box-sizing: border-box;text-align: center;}#sk-container-id-3 label.sk-toggleable__label-arrow:before {content: \"▸\";float: left;margin-right: 0.25em;color: #696969;}#sk-container-id-3 label.sk-toggleable__label-arrow:hover:before {color: black;}#sk-container-id-3 div.sk-estimator:hover label.sk-toggleable__label-arrow:before {color: black;}#sk-container-id-3 div.sk-toggleable__content {max-height: 0;max-width: 0;overflow: hidden;text-align: left;background-color: #f0f8ff;}#sk-container-id-3 div.sk-toggleable__content pre {margin: 0.2em;color: black;border-radius: 0.25em;background-color: #f0f8ff;}#sk-container-id-3 input.sk-toggleable__control:checked~div.sk-toggleable__content {max-height: 200px;max-width: 100%;overflow: auto;}#sk-container-id-3 input.sk-toggleable__control:checked~label.sk-toggleable__label-arrow:before {content: \"▾\";}#sk-container-id-3 div.sk-estimator input.sk-toggleable__control:checked~label.sk-toggleable__label {background-color: #d4ebff;}#sk-container-id-3 div.sk-label input.sk-toggleable__control:checked~label.sk-toggleable__label {background-color: #d4ebff;}#sk-container-id-3 input.sk-hidden--visually {border: 0;clip: rect(1px 1px 1px 1px);clip: rect(1px, 1px, 1px, 1px);height: 1px;margin: -1px;overflow: hidden;padding: 0;position: absolute;width: 1px;}#sk-container-id-3 div.sk-estimator {font-family: monospace;background-color: #f0f8ff;border: 1px dotted black;border-radius: 0.25em;box-sizing: border-box;margin-bottom: 0.5em;}#sk-container-id-3 div.sk-estimator:hover {background-color: #d4ebff;}#sk-container-id-3 div.sk-parallel-item::after {content: \"\";width: 100%;border-bottom: 1px solid gray;flex-grow: 1;}#sk-container-id-3 div.sk-label:hover label.sk-toggleable__label {background-color: #d4ebff;}#sk-container-id-3 div.sk-serial::before {content: \"\";position: absolute;border-left: 1px solid gray;box-sizing: border-box;top: 0;bottom: 0;left: 50%;z-index: 0;}#sk-container-id-3 div.sk-serial {display: flex;flex-direction: column;align-items: center;background-color: white;padding-right: 0.2em;padding-left: 0.2em;position: relative;}#sk-container-id-3 div.sk-item {position: relative;z-index: 1;}#sk-container-id-3 div.sk-parallel {display: flex;align-items: stretch;justify-content: center;background-color: white;position: relative;}#sk-container-id-3 div.sk-item::before, #sk-container-id-3 div.sk-parallel-item::before {content: \"\";position: absolute;border-left: 1px solid gray;box-sizing: border-box;top: 0;bottom: 0;left: 50%;z-index: -1;}#sk-container-id-3 div.sk-parallel-item {display: flex;flex-direction: column;z-index: 1;position: relative;background-color: white;}#sk-container-id-3 div.sk-parallel-item:first-child::after {align-self: flex-end;width: 50%;}#sk-container-id-3 div.sk-parallel-item:last-child::after {align-self: flex-start;width: 50%;}#sk-container-id-3 div.sk-parallel-item:only-child::after {width: 0;}#sk-container-id-3 div.sk-dashed-wrapped {border: 1px dashed gray;margin: 0 0.4em 0.5em 0.4em;box-sizing: border-box;padding-bottom: 0.4em;background-color: white;}#sk-container-id-3 div.sk-label label {font-family: monospace;font-weight: bold;display: inline-block;line-height: 1.2em;}#sk-container-id-3 div.sk-label-container {text-align: center;}#sk-container-id-3 div.sk-container {/* jupyter's `normalize.less` sets `[hidden] { display: none; }` but bootstrap.min.css set `[hidden] { display: none !important; }` so we also need the `!important` here to be able to override the default hidden behavior on the sphinx rendered scikit-learn.org. See: https://github.com/scikit-learn/scikit-learn/issues/21755 */display: inline-block !important;position: relative;}#sk-container-id-3 div.sk-text-repr-fallback {display: none;}</style><div id=\"sk-container-id-3\" class=\"sk-top-container\"><div class=\"sk-text-repr-fallback\"><pre>GradientBoostingClassifier()</pre><b>In a Jupyter environment, please rerun this cell to show the HTML representation or trust the notebook. <br />On GitHub, the HTML representation is unable to render, please try loading this page with nbviewer.org.</b></div><div class=\"sk-container\" hidden><div class=\"sk-item\"><div class=\"sk-estimator sk-toggleable\"><input class=\"sk-toggleable__control sk-hidden--visually\" id=\"sk-estimator-id-3\" type=\"checkbox\" checked><label for=\"sk-estimator-id-3\" class=\"sk-toggleable__label sk-toggleable__label-arrow\">GradientBoostingClassifier</label><div class=\"sk-toggleable__content\"><pre>GradientBoostingClassifier()</pre></div></div></div></div></div>"
      ],
      "text/plain": [
       "GradientBoostingClassifier()"
      ]
     },
     "execution_count": 77,
     "metadata": {},
     "output_type": "execute_result"
    }
   ],
   "source": [
    "gb_model = GradientBoostingClassifier() # Initialize the Gradient Boosting model\n",
    "gb_model.fit(X_train, y_train)"
   ]
  },
  {
   "cell_type": "code",
   "execution_count": 78,
   "id": "40d3c632",
   "metadata": {},
   "outputs": [],
   "source": [
    "y_pred_gb = gb_model.predict(X_test)\n",
    "accuracy_gb = accuracy_score(y_test, y_pred_gb)  # Calculate accuracy for the Gradient Boosting model"
   ]
  },
  {
   "cell_type": "code",
   "execution_count": 79,
   "id": "56844130",
   "metadata": {},
   "outputs": [
    {
     "name": "stdout",
     "output_type": "stream",
     "text": [
      "Accuracy using Gradient Boosting: 0.8905723905723906\n"
     ]
    }
   ],
   "source": [
    "print(\"Accuracy using Gradient Boosting:\", accuracy_gb)"
   ]
  },
  {
   "cell_type": "code",
   "execution_count": 80,
   "id": "46fdf369",
   "metadata": {},
   "outputs": [],
   "source": [
    "from sklearn.metrics import accuracy_score\n",
    "import matplotlib.pyplot as plt"
   ]
  },
  {
   "cell_type": "code",
   "execution_count": 81,
   "id": "1c287dca",
   "metadata": {},
   "outputs": [],
   "source": [
    "y_pred_rf = gb_model.predict(X_test)\n",
    "y_pred_gb = gb_model.predict(X_test)"
   ]
  },
  {
   "cell_type": "code",
   "execution_count": 82,
   "id": "1627aeab",
   "metadata": {},
   "outputs": [
    {
     "data": {
      "image/png": "[encoded data removed]",
      "text/plain": [
       "<Figure size 800x600 with 2 Axes>"
      ]
     },
     "metadata": {},
     "output_type": "display_data"
    }
   ],
   "source": [
    "cm = confusion_matrix(y_test, y_pred)\n",
    "plt.figure(figsize=(8, 6))\n",
    "sns.heatmap(cm, annot=True, fmt=\"d\", cmap=\"Blues\")\n",
    "plt.xlabel(\"Predicted\")\n",
    "plt.ylabel(\"Actual\")\n",
    "plt.title(\"Confusion Matrix\")\n",
    "plt.show()"
   ]
  },
  {
   "cell_type": "code",
   "execution_count": 83,
   "id": "8abc28b4",
   "metadata": {},
   "outputs": [],
   "source": [
    "accuracy_rf = accuracy_score(y_test, y_pred_rf)\n",
    "accuracy_gb = accuracy_score(y_test, y_pred_gb)"
   ]
  },
  {
   "cell_type": "code",
   "execution_count": 84,
   "id": "65d5c8d4",
   "metadata": {},
   "outputs": [],
   "source": [
    "models = ['Random Forest', 'Gradient Boosting']\n",
    "accuracies = [accuracy_rf, accuracy_gb]"
   ]
  },
  {
   "cell_type": "code",
   "execution_count": 85,
   "id": "96b88944",
   "metadata": {},
   "outputs": [
    {
     "data": {
      "image/png": "[encoded data removed]",
      "text/plain": [
       "<Figure size 640x480 with 1 Axes>"
      ]
     },
     "metadata": {},
     "output_type": "display_data"
    }
   ],
   "source": [
    "plt.bar(models, accuracies, color=['blue', 'green'])\n",
    "plt.xlabel('Models')\n",
    "plt.ylabel('Accuracy')\n",
    "plt.title('Model Accuracies')\n",
    "plt.ylim(0, 1) \n",
    "plt.show()"
   ]
  },
  {
   "cell_type": "markdown",
   "id": "8b086144",
   "metadata": {},
   "source": [
    "# Decision trees"
   ]
  },
  {
   "cell_type": "code",
   "execution_count": 86,
   "id": "d562bc5d",
   "metadata": {},
   "outputs": [
    {
     "name": "stdout",
     "output_type": "stream",
     "text": [
      "Cross-validation scores: [0.84428716 0.8463094  0.90789474]\n",
      "Mean accuracy: 0.8661637663420433\n"
     ]
    }
   ],
   "source": [
    "dt = DecisionTreeClassifier()\n",
    "cross_val_scores = cross_val_score(dt, x, y, cv=3)\n",
    "print(\"Cross-validation scores:\", cross_val_scores)\n",
    "print(\"Mean accuracy:\", cross_val_scores.mean())"
   ]
  },
  {
   "cell_type": "code",
   "execution_count": 87,
   "id": "0bb9d277",
   "metadata": {},
   "outputs": [],
   "source": [
    "X_train, X_test, y_train, y_test = train_test_split(x, y, test_size=0.2, random_state=42)"
   ]
  },
  {
   "cell_type": "code",
   "execution_count": 88,
   "id": "e6ae2ee3",
   "metadata": {},
   "outputs": [
    {
     "data": {
      "text/html": [
       "<style>#sk-container-id-4 {color: black;background-color: white;}#sk-container-id-4 pre{padding: 0;}#sk-container-id-4 div.sk-toggleable {background-color: white;}#sk-container-id-4 label.sk-toggleable__label {cursor: pointer;display: block;width: 100%;margin-bottom: 0;padding: 0.3em;box-sizing: border-box;text-align: center;}#sk-container-id-4 label.sk-toggleable__label-arrow:before {content: \"▸\";float: left;margin-right: 0.25em;color: #696969;}#sk-container-id-4 label.sk-toggleable__label-arrow:hover:before {color: black;}#sk-container-id-4 div.sk-estimator:hover label.sk-toggleable__label-arrow:before {color: black;}#sk-container-id-4 div.sk-toggleable__content {max-height: 0;max-width: 0;overflow: hidden;text-align: left;background-color: #f0f8ff;}#sk-container-id-4 div.sk-toggleable__content pre {margin: 0.2em;color: black;border-radius: 0.25em;background-color: #f0f8ff;}#sk-container-id-4 input.sk-toggleable__control:checked~div.sk-toggleable__content {max-height: 200px;max-width: 100%;overflow: auto;}#sk-container-id-4 input.sk-toggleable__control:checked~label.sk-toggleable__label-arrow:before {content: \"▾\";}#sk-container-id-4 div.sk-estimator input.sk-toggleable__control:checked~label.sk-toggleable__label {background-color: #d4ebff;}#sk-container-id-4 div.sk-label input.sk-toggleable__control:checked~label.sk-toggleable__label {background-color: #d4ebff;}#sk-container-id-4 input.sk-hidden--visually {border: 0;clip: rect(1px 1px 1px 1px);clip: rect(1px, 1px, 1px, 1px);height: 1px;margin: -1px;overflow: hidden;padding: 0;position: absolute;width: 1px;}#sk-container-id-4 div.sk-estimator {font-family: monospace;background-color: #f0f8ff;border: 1px dotted black;border-radius: 0.25em;box-sizing: border-box;margin-bottom: 0.5em;}#sk-container-id-4 div.sk-estimator:hover {background-color: #d4ebff;}#sk-container-id-4 div.sk-parallel-item::after {content: \"\";width: 100%;border-bottom: 1px solid gray;flex-grow: 1;}#sk-container-id-4 div.sk-label:hover label.sk-toggleable__label {background-color: #d4ebff;}#sk-container-id-4 div.sk-serial::before {content: \"\";position: absolute;border-left: 1px solid gray;box-sizing: border-box;top: 0;bottom: 0;left: 50%;z-index: 0;}#sk-container-id-4 div.sk-serial {display: flex;flex-direction: column;align-items: center;background-color: white;padding-right: 0.2em;padding-left: 0.2em;position: relative;}#sk-container-id-4 div.sk-item {position: relative;z-index: 1;}#sk-container-id-4 div.sk-parallel {display: flex;align-items: stretch;justify-content: center;background-color: white;position: relative;}#sk-container-id-4 div.sk-item::before, #sk-container-id-4 div.sk-parallel-item::before {content: \"\";position: absolute;border-left: 1px solid gray;box-sizing: border-box;top: 0;bottom: 0;left: 50%;z-index: -1;}#sk-container-id-4 div.sk-parallel-item {display: flex;flex-direction: column;z-index: 1;position: relative;background-color: white;}#sk-container-id-4 div.sk-parallel-item:first-child::after {align-self: flex-end;width: 50%;}#sk-container-id-4 div.sk-parallel-item:last-child::after {align-self: flex-start;width: 50%;}#sk-container-id-4 div.sk-parallel-item:only-child::after {width: 0;}#sk-container-id-4 div.sk-dashed-wrapped {border: 1px dashed gray;margin: 0 0.4em 0.5em 0.4em;box-sizing: border-box;padding-bottom: 0.4em;background-color: white;}#sk-container-id-4 div.sk-label label {font-family: monospace;font-weight: bold;display: inline-block;line-height: 1.2em;}#sk-container-id-4 div.sk-label-container {text-align: center;}#sk-container-id-4 div.sk-container {/* jupyter's `normalize.less` sets `[hidden] { display: none; }` but bootstrap.min.css set `[hidden] { display: none !important; }` so we also need the `!important` here to be able to override the default hidden behavior on the sphinx rendered scikit-learn.org. See: https://github.com/scikit-learn/scikit-learn/issues/21755 */display: inline-block !important;position: relative;}#sk-container-id-4 div.sk-text-repr-fallback {display: none;}</style><div id=\"sk-container-id-4\" class=\"sk-top-container\"><div class=\"sk-text-repr-fallback\"><pre>DecisionTreeClassifier()</pre><b>In a Jupyter environment, please rerun this cell to show the HTML representation or trust the notebook. <br />On GitHub, the HTML representation is unable to render, please try loading this page with nbviewer.org.</b></div><div class=\"sk-container\" hidden><div class=\"sk-item\"><div class=\"sk-estimator sk-toggleable\"><input class=\"sk-toggleable__control sk-hidden--visually\" id=\"sk-estimator-id-4\" type=\"checkbox\" checked><label for=\"sk-estimator-id-4\" class=\"sk-toggleable__label sk-toggleable__label-arrow\">DecisionTreeClassifier</label><div class=\"sk-toggleable__content\"><pre>DecisionTreeClassifier()</pre></div></div></div></div></div>"
      ],
      "text/plain": [
       "DecisionTreeClassifier()"
      ]
     },
     "execution_count": 88,
     "metadata": {},
     "output_type": "execute_result"
    }
   ],
   "source": [
    "# Training the Decision Tree model\n",
    "dt.fit(X_train, y_train)"
   ]
  },
  {
   "cell_type": "code",
   "execution_count": 89,
   "id": "4c458ba6",
   "metadata": {},
   "outputs": [
    {
     "data": {
      "image/png": "[encoded data removed]",
      "text/plain": [
       "<Figure size 800x600 with 2 Axes>"
      ]
     },
     "metadata": {},
     "output_type": "display_data"
    }
   ],
   "source": [
    "cm = confusion_matrix(y_test, y_pred)\n",
    "plt.figure(figsize=(8, 6))\n",
    "sns.heatmap(cm, annot=True, fmt=\"d\", cmap=\"Blues\")\n",
    "plt.xlabel(\"Predicted\")\n",
    "plt.ylabel(\"Actual\")\n",
    "plt.title(\"Confusion Matrix\")\n",
    "plt.show()"
   ]
  },
  {
   "cell_type": "markdown",
   "id": "d9e5d2b8",
   "metadata": {},
   "source": [
    "# SVM"
   ]
  },
  {
   "cell_type": "code",
   "execution_count": 90,
   "id": "5b32d3cb",
   "metadata": {},
   "outputs": [
    {
     "name": "stdout",
     "output_type": "stream",
     "text": [
      "SVM Cross-validation scores: [0.73609707 0.76238625 0.84817814]\n",
      "SVM Mean accuracy: 0.7822204847110387\n"
     ]
    }
   ],
   "source": [
    "svm_model = SVC()\n",
    "svm_scores = cross_val_score(svm_model, x, y, cv=3)\n",
    "svm_accuracy = svm_scores.mean()\n",
    "print(\"SVM Cross-validation scores:\", svm_scores)\n",
    "print(\"SVM Mean accuracy:\", svm_accuracy)"
   ]
  }
 ],
 "metadata": {
  "kernelspec": {
   "display_name": "Python 3 (ipykernel)",
   "language": "python",
   "name": "python3"
  },
  "language_info": {
   "codemirror_mode": {
    "name": "ipython",
    "version": 3
   },
   "file_extension": ".py",
   "mimetype": "text/x-python",
   "name": "python",
   "nbconvert_exporter": "python",
   "pygments_lexer": "ipython3",
   "version": "3.11.4"
  }
 },
 "nbformat": 4,
 "nbformat_minor": 5
}
